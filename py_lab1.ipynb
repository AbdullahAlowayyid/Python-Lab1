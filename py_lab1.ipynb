{
 "cells": [
  {
   "cell_type": "code",
   "execution_count": null,
   "id": "a8cd599f",
   "metadata": {},
   "outputs": [],
   "source": [
    "My_Favorite_Season = \"Winter\""
   ]
  },
  {
   "cell_type": "code",
   "execution_count": null,
   "id": "b70db9f8",
   "metadata": {},
   "outputs": [],
   "source": [
    "x = 8\n",
    "y = 8.8"
   ]
  },
  {
   "cell_type": "code",
   "execution_count": null,
   "id": "0c1c9d13",
   "metadata": {},
   "outputs": [],
   "source": [
    "x = y = z = \"3D\""
   ]
  },
  {
   "cell_type": "code",
   "execution_count": null,
   "id": "0a664302",
   "metadata": {},
   "outputs": [],
   "source": [
    "a, b, c = 1, 2, 3"
   ]
  }
 ],
 "metadata": {
  "kernelspec": {
   "display_name": "Python 3 (ipykernel)",
   "language": "python",
   "name": "python3"
  },
  "language_info": {
   "codemirror_mode": {
    "name": "ipython",
    "version": 3
   },
   "file_extension": ".py",
   "mimetype": "text/x-python",
   "name": "python",
   "nbconvert_exporter": "python",
   "pygments_lexer": "ipython3",
   "version": "3.11.3"
  }
 },
 "nbformat": 4,
 "nbformat_minor": 5
}
